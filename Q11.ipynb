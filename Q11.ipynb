{
 "cells": [
  {
   "cell_type": "markdown",
   "id": "c6bbe6d8-1120-4b87-9288-e45f4c1ea559",
   "metadata": {},
   "source": [
    "# Tim Hibbs\n",
    "## Notebook for Assignment 7"
   ]
  },
  {
   "cell_type": "code",
   "execution_count": 2,
   "id": "52d230a3-9923-40fc-81d4-24662b94f432",
   "metadata": {},
   "outputs": [
    {
     "data": {
      "text/plain": [
       "5.0"
      ]
     },
     "execution_count": 2,
     "metadata": {},
     "output_type": "execute_result"
    }
   ],
   "source": [
    "def compute_mean():\n",
    "\n",
    "    compute_mean = (2 + 4 + 6 + 8) / 4\n",
    "    return compute_mean\n",
    "\n",
    "compute_mean()"
   ]
  },
  {
   "cell_type": "markdown",
   "id": "250c5b9e-f9bf-4384-9b1f-f401d0e41d22",
   "metadata": {},
   "source": [
    "$$\n",
    "\\begin{aligned}\n",
    "\\bar {x} $ &= \\frac {x_{1} + {x_{2} + {...} + {x_{n}}{n}\n",
    "\\end{aligned}\n",
    "$$\n"
   ]
  }
 ],
 "metadata": {
  "kernelspec": {
   "display_name": "Python 3 (ipykernel)",
   "language": "python",
   "name": "python3"
  },
  "language_info": {
   "codemirror_mode": {
    "name": "ipython",
    "version": 3
   },
   "file_extension": ".py",
   "mimetype": "text/x-python",
   "name": "python",
   "nbconvert_exporter": "python",
   "pygments_lexer": "ipython3",
   "version": "3.11.8"
  }
 },
 "nbformat": 4,
 "nbformat_minor": 5
}
