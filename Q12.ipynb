{
 "cells": [
  {
   "cell_type": "markdown",
   "id": "911ecf44-d4c0-4974-8039-f0572245bd7f",
   "metadata": {},
   "source": [
    "# We are currently working in the following directory:"
   ]
  },
  {
   "cell_type": "code",
   "execution_count": 1,
   "id": "95f8a838-455b-461f-8caf-5d4cfdf99ceb",
   "metadata": {},
   "outputs": [
    {
     "data": {
      "text/plain": [
       "'/Users/timhibbs/Documents/projects'"
      ]
     },
     "execution_count": 1,
     "metadata": {},
     "output_type": "execute_result"
    }
   ],
   "source": [
    "pwd"
   ]
  },
  {
   "cell_type": "markdown",
   "id": "6696d265-678d-4414-9b9d-e513989c3e37",
   "metadata": {},
   "source": [
    "# To time how long it takes to run a Python cell we use the timeit command\n",
    "\n",
    "import timeit \n",
    "\n",
    "```\n",
    "for i in range(1_000_000):\n",
    "i**2\n",
    "\n",
    "```\n",
    "\n",
    "\n"
   ]
  },
  {
   "cell_type": "markdown",
   "id": "33914a4d-1767-429e-b23a-1ff6497c356f",
   "metadata": {},
   "source": [
    "jupyter nbconvert --to html --no-input Q12.ipynb"
   ]
  }
 ],
 "metadata": {
  "kernelspec": {
   "display_name": "Python 3 (ipykernel)",
   "language": "python",
   "name": "python3"
  },
  "language_info": {
   "codemirror_mode": {
    "name": "ipython",
    "version": 3
   },
   "file_extension": ".py",
   "mimetype": "text/x-python",
   "name": "python",
   "nbconvert_exporter": "python",
   "pygments_lexer": "ipython3",
   "version": "3.11.8"
  }
 },
 "nbformat": 4,
 "nbformat_minor": 5
}
